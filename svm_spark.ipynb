{
 "cells": [
  {
   "cell_type": "code",
   "execution_count": 1,
   "metadata": {},
   "outputs": [
    {
     "name": "stdout",
     "output_type": "stream",
     "text": [
      "[1] 51967\n"
     ]
    }
   ],
   "source": [
    "##\n",
    "# @author Chris Bailey\n",
    "#\n",
    "\n",
    "source(\"./src/main/R/svm.R\")\n",
    "\n",
    "spark <- spark.start()\n",
    "\n",
    "d <- read.csv('./data/readmit_200000.csv', header = TRUE)\n",
    "mat <- sparse.model.matrix(READMITTED ~ WEIGHT + SYSTOLIC + DIASTOLIC + as.factor(SERVICECODE) - 1, data = d)\n",
    "\n",
    "# get the sparse matrix dimensions.\n",
    "nRows     <- mat@Dim[1]\n",
    "nColumns  <- mat@Dim[2]\n",
    "nElements <- length(mat@i)\n",
    "# get the sparse matrix.\n",
    "rowIndex  <- mat@i\n",
    "colBegin  <- mat@p\n",
    "matValue  <- mat@x\n",
    "# get the labels.\n",
    "labels    <- as.numeric(d$READMITTED)\n",
    "\n",
    "modelMatrix <- create.model.matrix(nRows, nColumns, nElements, rowIndex, colBegin, matValue)\n",
    "# consider increasing the number of partitions for larger datasets.\n",
    "nPartitions <- 100L\n",
    "trainData   <- create.training.dataset(spark, modelMatrix, nPartitions, labels)\n",
    "testData    <- create.test.dataset(spark, modelMatrix, nPartitions)\n",
    "\n",
    "# create a SVM object.\n",
    "# DO PLAY with parameters!!\n",
    "maxIterations <- 50L\n",
    "tol           <- 1e-8\n",
    "regParam      <- 1e-8\n",
    "intercept     <- FALSE\n",
    "svm <- svm.create(maxIterations, tol, regParam, intercept)\n",
    "\n",
    "svm.train(svm, trainData)\n",
    "scores <- svm.predict(svm, testData)\n",
    "\n",
    "misclassification <- sum((scores - labels)^2)\n",
    "print(misclassification)\n",
    "\n",
    "spark$stop()"
   ]
  },
  {
   "cell_type": "code",
   "execution_count": null,
   "metadata": {},
   "outputs": [],
   "source": []
  }
 ],
 "metadata": {
  "kernelspec": {
   "display_name": "R",
   "language": "R",
   "name": "ir"
  },
  "language_info": {
   "codemirror_mode": "r",
   "file_extension": ".r",
   "mimetype": "text/x-r-source",
   "name": "R",
   "pygments_lexer": "r",
   "version": "3.5.1"
  }
 },
 "nbformat": 4,
 "nbformat_minor": 2
}
